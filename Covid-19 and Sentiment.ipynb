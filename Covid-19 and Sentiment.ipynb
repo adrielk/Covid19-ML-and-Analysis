{
 "cells": [
  {
   "cell_type": "markdown",
   "metadata": {},
   "source": [
    "# Covid-19 Sentiment Analysis\n",
    "#### Source: https://www.kaggle.com/smid80/coronavirus-covid19-tweets\n",
    "\n",
    "Preprocessing:\n",
    "1. To reduce data set size, take smaller random samples from each date\n",
    "2. Delete quotes or retweets, etc.\n",
    "3. Remove columns: reply_to_status_id, reply_to_user_id, reply_to_screen_name\n",
    "4. Remove rows without country_code (make a separate dataframe for this)\n",
    "    This will be purley for tweet counts from various countries\n",
    "\n",
    "Analysis:\n",
    "1. See which countries have the most tweets.*\n",
    "2. Textblob for sentiment analysis. Potential questions: How sentiment differs from country, over time\n",
    "3. ML clustering based on sentiment. (Review ML stuff)\n",
    "4. Most popular tweets/tweets by people with most followers *\n",
    "5. See number of followers, favs, etc. based on country or location *\n",
    "6. Time series of total number of tweets in US over time. As well as total global tweets over time\n"
   ]
  },
  {
   "cell_type": "markdown",
   "metadata": {},
   "source": [
    "## Preprocessing"
   ]
  },
  {
   "cell_type": "code",
   "execution_count": 1,
   "metadata": {},
   "outputs": [],
   "source": [
    "import pandas as pd\n",
    "import numpy as np\n",
    "import matplotlib.pyplot as plt\n",
    "import seaborn as sns\n",
    "from random import randint\n",
    "import os\n",
    "#from urllib.request import urlopen\n",
    "#from bs4 import BeautifulSoup\n",
    "%matplotlib inline"
   ]
  },
  {
   "cell_type": "code",
   "execution_count": 2,
   "metadata": {},
   "outputs": [
    {
     "data": {
      "text/plain": [
       "'\\nsearches = [\\'hand sanitzer\\', \\'toilet paper\\', \\'wipes\\', \\'soap\\']\\nurl = \"https://www.amazon.com/ref=nav_logo\"\\nhtml = urlopen(url)\\n'"
      ]
     },
     "execution_count": 2,
     "metadata": {},
     "output_type": "execute_result"
    }
   ],
   "source": [
    "\"\"\"\n",
    "searches = ['hand sanitzer', 'toilet paper', 'wipes', 'soap']\n",
    "url = \"https://www.amazon.com/ref=nav_logo\"\n",
    "html = urlopen(url)\n",
    "\"\"\""
   ]
  },
  {
   "cell_type": "code",
   "execution_count": 3,
   "metadata": {},
   "outputs": [],
   "source": [
    "march_df = []\n",
    "path = r'C:\\Users\\thead\\Desktop\\Summer 2020 ML Learning\\Covid19AnalysisAndSentiment\\Covid19March'\n",
    "os.chdir(path)\n",
    "\n",
    "for file in os.listdir():\n",
    "    filename = os.fsdecode(file)#basically just returns a string..\n",
    "    if filename.endswith('.CSV'):\n",
    "        march_df.append(str(filename))"
   ]
  },
  {
   "cell_type": "code",
   "execution_count": 4,
   "metadata": {},
   "outputs": [],
   "source": [
    "#Params: array of dataframes, and list of columns\n",
    "def dropColumn(df_arr, columns):\n",
    "    for i in range(0,len(df_arr)):\n",
    "        df_arr[i] = df_arr[i].drop(columns, axis = 1)"
   ]
  },
  {
   "cell_type": "code",
   "execution_count": 5,
   "metadata": {},
   "outputs": [],
   "source": [
    "def dropRow(df_arr,row):\n",
    "    new_arr = [0]*len(df_arr)\n",
    "    for i in range(0, len(df_arr)):\n",
    "        df_arr[i][row] = df_arr[i][row].fillna(0)\n",
    "        new_arr[i] = df_arr[i].loc[(df_arr[i][row] != 0)].reset_index()\n",
    "    return new_arr"
   ]
  },
  {
   "cell_type": "code",
   "execution_count": 6,
   "metadata": {},
   "outputs": [],
   "source": [
    "def randomTweet(df_arr):\n",
    "    randDf = randint(0, len(df_arr)-1)\n",
    "    randInd = randint(0, len(df_arr[randDf]['text'])-1)\n",
    "    text = df_arr[randDf]['text'][randInd]\n",
    "    screenName = df_arr[randDf]['screen_name'][randInd]\n",
    "    return text, screenName"
   ]
  },
  {
   "cell_type": "code",
   "execution_count": 7,
   "metadata": {},
   "outputs": [],
   "source": [
    "#Print most favorited\n",
    "def mostFavorited(df_arr):\n",
    "    for df in df_arr:\n",
    "        maxFavs = max(df['favourites_count'])\n",
    "        rowNum = list(df['favourites_count']).index(maxFavs)\n",
    "        author = df['screen_name'][rowNum]\n",
    "        retweets = df['retweet_count'][rowNum]\n",
    "        followers = df['followers_count'][rowNum]\n",
    "        tweet = df['text'][rowNum]\n",
    "        time = df['created_at'][rowNum]\n",
    "        print(maxFavs,' Favorites, ',retweets,' Retweets and ',followers,' Followers - ', author)\n",
    "        print(\"Time: \", time)\n",
    "        print(\"Tweet: \", tweet,\"\\n----------------------------------------------------------\")"
   ]
  },
  {
   "cell_type": "code",
   "execution_count": 8,
   "metadata": {},
   "outputs": [],
   "source": [
    "#Print most popular\n",
    "def mostFollowers(df_arr):\n",
    "    for df in df_arr:\n",
    "        maxFol = max(df['followers_count'])\n",
    "        rowNum = list(df['followers_count']).index(maxFavs)\n",
    "        author = df['screen_name'][rowNum]\n",
    "        print(maxFol,' - ', author)"
   ]
  },
  {
   "cell_type": "code",
   "execution_count": 9,
   "metadata": {},
   "outputs": [],
   "source": [
    "for i in range(0,len(march_df)):\n",
    "    march_df[i] = pd.read_csv(march_df[i])"
   ]
  },
  {
   "cell_type": "code",
   "execution_count": 10,
   "metadata": {},
   "outputs": [],
   "source": [
    "for i in range(0,len(march_df)):\n",
    "    march_df[i] = march_df[i].drop(['reply_to_status_id', 'reply_to_user_id', 'reply_to_screen_name'],axis = 1)"
   ]
  },
  {
   "cell_type": "code",
   "execution_count": 11,
   "metadata": {},
   "outputs": [],
   "source": [
    "april_df = []\n",
    "apath = r'C:\\Users\\thead\\Desktop\\Summer 2020 ML Learning\\Covid19AnalysisAndSentiment\\Covid19April'\n",
    "os.chdir(apath)\n",
    "\n",
    "for file in os.listdir():\n",
    "    filename = os.fsdecode(file)#basically just returns a string..\n",
    "    if filename.endswith('.CSV'):\n",
    "        april_df.append(str(filename))"
   ]
  },
  {
   "cell_type": "code",
   "execution_count": 12,
   "metadata": {},
   "outputs": [],
   "source": [
    "for i in range(0,len(april_df)):\n",
    "    april_df[i] = pd.read_csv(april_df[i])"
   ]
  },
  {
   "cell_type": "code",
   "execution_count": 13,
   "metadata": {},
   "outputs": [],
   "source": [
    "for i in range(0,len(april_df)):\n",
    "    april_df[i] = april_df[i].drop(['reply_to_status_id', 'reply_to_user_id', 'reply_to_screen_name'],axis = 1)"
   ]
  },
  {
   "cell_type": "code",
   "execution_count": 14,
   "metadata": {},
   "outputs": [],
   "source": [
    "dropColumn(april_df, ['account_lang', 'place_type'])\n",
    "dropColumn(march_df, ['account_lang','place_type'])"
   ]
  },
  {
   "cell_type": "code",
   "execution_count": 15,
   "metadata": {},
   "outputs": [
    {
     "data": {
      "text/html": [
       "<div>\n",
       "<style scoped>\n",
       "    .dataframe tbody tr th:only-of-type {\n",
       "        vertical-align: middle;\n",
       "    }\n",
       "\n",
       "    .dataframe tbody tr th {\n",
       "        vertical-align: top;\n",
       "    }\n",
       "\n",
       "    .dataframe thead th {\n",
       "        text-align: right;\n",
       "    }\n",
       "</style>\n",
       "<table border=\"1\" class=\"dataframe\">\n",
       "  <thead>\n",
       "    <tr style=\"text-align: right;\">\n",
       "      <th></th>\n",
       "      <th>status_id</th>\n",
       "      <th>user_id</th>\n",
       "      <th>created_at</th>\n",
       "      <th>screen_name</th>\n",
       "      <th>text</th>\n",
       "      <th>source</th>\n",
       "      <th>is_quote</th>\n",
       "      <th>is_retweet</th>\n",
       "      <th>favourites_count</th>\n",
       "      <th>retweet_count</th>\n",
       "      <th>country_code</th>\n",
       "      <th>place_full_name</th>\n",
       "      <th>followers_count</th>\n",
       "      <th>friends_count</th>\n",
       "      <th>account_created_at</th>\n",
       "      <th>verified</th>\n",
       "      <th>lang</th>\n",
       "    </tr>\n",
       "  </thead>\n",
       "  <tbody>\n",
       "    <tr>\n",
       "      <th>0</th>\n",
       "      <td>1244051646071611394</td>\n",
       "      <td>860252856829587457</td>\n",
       "      <td>2020-03-29T00:00:00Z</td>\n",
       "      <td>IMSS_SanLuis</td>\n",
       "      <td>Ante cualquier enfermedad respiratoria, no te ...</td>\n",
       "      <td>TweetDeck</td>\n",
       "      <td>False</td>\n",
       "      <td>False</td>\n",
       "      <td>300</td>\n",
       "      <td>0</td>\n",
       "      <td>NaN</td>\n",
       "      <td>NaN</td>\n",
       "      <td>1008</td>\n",
       "      <td>41</td>\n",
       "      <td>2017-05-04T22:00:38Z</td>\n",
       "      <td>False</td>\n",
       "      <td>es</td>\n",
       "    </tr>\n",
       "    <tr>\n",
       "      <th>1</th>\n",
       "      <td>1244051645039706112</td>\n",
       "      <td>1125933654943895553</td>\n",
       "      <td>2020-03-29T00:00:00Z</td>\n",
       "      <td>intrac_ccs</td>\n",
       "      <td>#ATENCIÓN En el Terminal Nuevo Circo se implem...</td>\n",
       "      <td>TweetDeck</td>\n",
       "      <td>False</td>\n",
       "      <td>False</td>\n",
       "      <td>1030</td>\n",
       "      <td>1</td>\n",
       "      <td>NaN</td>\n",
       "      <td>NaN</td>\n",
       "      <td>90</td>\n",
       "      <td>316</td>\n",
       "      <td>2019-05-08T01:21:16Z</td>\n",
       "      <td>False</td>\n",
       "      <td>es</td>\n",
       "    </tr>\n",
       "    <tr>\n",
       "      <th>2</th>\n",
       "      <td>1244051645975191557</td>\n",
       "      <td>80943559</td>\n",
       "      <td>2020-03-29T00:00:00Z</td>\n",
       "      <td>rlieving</td>\n",
       "      <td>“People are just storing up. They are staying ...</td>\n",
       "      <td>TweetDeck</td>\n",
       "      <td>False</td>\n",
       "      <td>False</td>\n",
       "      <td>604</td>\n",
       "      <td>0</td>\n",
       "      <td>NaN</td>\n",
       "      <td>NaN</td>\n",
       "      <td>136</td>\n",
       "      <td>457</td>\n",
       "      <td>2009-10-08T21:06:08Z</td>\n",
       "      <td>False</td>\n",
       "      <td>en</td>\n",
       "    </tr>\n",
       "    <tr>\n",
       "      <th>3</th>\n",
       "      <td>1244051646750928897</td>\n",
       "      <td>817072420947247104</td>\n",
       "      <td>2020-03-29T00:00:00Z</td>\n",
       "      <td>Tu_IMSS_Coah</td>\n",
       "      <td>Si empezaste a trabajar, necesitas dar de alta...</td>\n",
       "      <td>TweetDeck</td>\n",
       "      <td>False</td>\n",
       "      <td>False</td>\n",
       "      <td>1827</td>\n",
       "      <td>0</td>\n",
       "      <td>NaN</td>\n",
       "      <td>NaN</td>\n",
       "      <td>1549</td>\n",
       "      <td>170</td>\n",
       "      <td>2017-01-05T18:17:00Z</td>\n",
       "      <td>False</td>\n",
       "      <td>es</td>\n",
       "    </tr>\n",
       "    <tr>\n",
       "      <th>4</th>\n",
       "      <td>1244051647032102914</td>\n",
       "      <td>788863557349670913</td>\n",
       "      <td>2020-03-29T00:00:00Z</td>\n",
       "      <td>Tabasco_IMSS</td>\n",
       "      <td>Una sociedad informada está mejor preparada an...</td>\n",
       "      <td>TweetDeck</td>\n",
       "      <td>False</td>\n",
       "      <td>False</td>\n",
       "      <td>723</td>\n",
       "      <td>0</td>\n",
       "      <td>NaN</td>\n",
       "      <td>NaN</td>\n",
       "      <td>868</td>\n",
       "      <td>125</td>\n",
       "      <td>2016-10-19T22:05:03Z</td>\n",
       "      <td>False</td>\n",
       "      <td>es</td>\n",
       "    </tr>\n",
       "  </tbody>\n",
       "</table>\n",
       "</div>"
      ],
      "text/plain": [
       "             status_id              user_id            created_at  \\\n",
       "0  1244051646071611394   860252856829587457  2020-03-29T00:00:00Z   \n",
       "1  1244051645039706112  1125933654943895553  2020-03-29T00:00:00Z   \n",
       "2  1244051645975191557             80943559  2020-03-29T00:00:00Z   \n",
       "3  1244051646750928897   817072420947247104  2020-03-29T00:00:00Z   \n",
       "4  1244051647032102914   788863557349670913  2020-03-29T00:00:00Z   \n",
       "\n",
       "    screen_name                                               text     source  \\\n",
       "0  IMSS_SanLuis  Ante cualquier enfermedad respiratoria, no te ...  TweetDeck   \n",
       "1    intrac_ccs  #ATENCIÓN En el Terminal Nuevo Circo se implem...  TweetDeck   \n",
       "2      rlieving  “People are just storing up. They are staying ...  TweetDeck   \n",
       "3  Tu_IMSS_Coah  Si empezaste a trabajar, necesitas dar de alta...  TweetDeck   \n",
       "4  Tabasco_IMSS  Una sociedad informada está mejor preparada an...  TweetDeck   \n",
       "\n",
       "   is_quote  is_retweet  favourites_count  retweet_count country_code  \\\n",
       "0     False       False               300              0          NaN   \n",
       "1     False       False              1030              1          NaN   \n",
       "2     False       False               604              0          NaN   \n",
       "3     False       False              1827              0          NaN   \n",
       "4     False       False               723              0          NaN   \n",
       "\n",
       "  place_full_name  followers_count  friends_count    account_created_at  \\\n",
       "0             NaN             1008             41  2017-05-04T22:00:38Z   \n",
       "1             NaN               90            316  2019-05-08T01:21:16Z   \n",
       "2             NaN              136            457  2009-10-08T21:06:08Z   \n",
       "3             NaN             1549            170  2017-01-05T18:17:00Z   \n",
       "4             NaN              868            125  2016-10-19T22:05:03Z   \n",
       "\n",
       "   verified lang  \n",
       "0     False   es  \n",
       "1     False   es  \n",
       "2     False   en  \n",
       "3     False   es  \n",
       "4     False   es  "
      ]
     },
     "execution_count": 15,
     "metadata": {},
     "output_type": "execute_result"
    }
   ],
   "source": [
    "march_df[0].head()"
   ]
  },
  {
   "cell_type": "markdown",
   "metadata": {},
   "source": [
    "### Below are dataframes with rows of NaN country_code dropped"
   ]
  },
  {
   "cell_type": "code",
   "execution_count": 16,
   "metadata": {},
   "outputs": [],
   "source": [
    "march_df_cc = dropRow(march_df, 'country_code')"
   ]
  },
  {
   "cell_type": "code",
   "execution_count": 17,
   "metadata": {},
   "outputs": [],
   "source": [
    "april_df_cc = dropRow(april_df,'country_code')"
   ]
  },
  {
   "cell_type": "code",
   "execution_count": 18,
   "metadata": {},
   "outputs": [
    {
     "data": {
      "text/html": [
       "<div>\n",
       "<style scoped>\n",
       "    .dataframe tbody tr th:only-of-type {\n",
       "        vertical-align: middle;\n",
       "    }\n",
       "\n",
       "    .dataframe tbody tr th {\n",
       "        vertical-align: top;\n",
       "    }\n",
       "\n",
       "    .dataframe thead th {\n",
       "        text-align: right;\n",
       "    }\n",
       "</style>\n",
       "<table border=\"1\" class=\"dataframe\">\n",
       "  <thead>\n",
       "    <tr style=\"text-align: right;\">\n",
       "      <th></th>\n",
       "      <th>index</th>\n",
       "      <th>status_id</th>\n",
       "      <th>user_id</th>\n",
       "      <th>created_at</th>\n",
       "      <th>screen_name</th>\n",
       "      <th>text</th>\n",
       "      <th>source</th>\n",
       "      <th>is_quote</th>\n",
       "      <th>is_retweet</th>\n",
       "      <th>favourites_count</th>\n",
       "      <th>retweet_count</th>\n",
       "      <th>country_code</th>\n",
       "      <th>place_full_name</th>\n",
       "      <th>followers_count</th>\n",
       "      <th>friends_count</th>\n",
       "      <th>account_created_at</th>\n",
       "      <th>verified</th>\n",
       "      <th>lang</th>\n",
       "    </tr>\n",
       "  </thead>\n",
       "  <tbody>\n",
       "    <tr>\n",
       "      <th>0</th>\n",
       "      <td>157</td>\n",
       "      <td>1250574631616069641</td>\n",
       "      <td>626679510</td>\n",
       "      <td>2020-04-16T00:00:01Z</td>\n",
       "      <td>SeanDMackNYC</td>\n",
       "      <td>This should make my meetings way more producti...</td>\n",
       "      <td>Twitter for Android</td>\n",
       "      <td>False</td>\n",
       "      <td>False</td>\n",
       "      <td>1096</td>\n",
       "      <td>0</td>\n",
       "      <td>US</td>\n",
       "      <td>Manhattan, NY</td>\n",
       "      <td>3891</td>\n",
       "      <td>4178</td>\n",
       "      <td>2012-07-04T16:48:10Z</td>\n",
       "      <td>False</td>\n",
       "      <td>en</td>\n",
       "    </tr>\n",
       "    <tr>\n",
       "      <th>1</th>\n",
       "      <td>260</td>\n",
       "      <td>1250574678541942786</td>\n",
       "      <td>794120640</td>\n",
       "      <td>2020-04-16T00:00:12Z</td>\n",
       "      <td>josemarceloroch</td>\n",
       "      <td>Vendo a quantidade de dificuldades que princip...</td>\n",
       "      <td>Twitter for Android</td>\n",
       "      <td>False</td>\n",
       "      <td>False</td>\n",
       "      <td>834</td>\n",
       "      <td>0</td>\n",
       "      <td>BR</td>\n",
       "      <td>Caldas Novas, Brasil</td>\n",
       "      <td>81</td>\n",
       "      <td>396</td>\n",
       "      <td>2012-08-31T15:44:33Z</td>\n",
       "      <td>False</td>\n",
       "      <td>pt</td>\n",
       "    </tr>\n",
       "    <tr>\n",
       "      <th>2</th>\n",
       "      <td>268</td>\n",
       "      <td>1250574683453431808</td>\n",
       "      <td>1211950858746785793</td>\n",
       "      <td>2020-04-16T00:00:13Z</td>\n",
       "      <td>EDNewsChina</td>\n",
       "      <td>Grand Bazaar, a famous tourist site and a good...</td>\n",
       "      <td>Twitter for iPhone</td>\n",
       "      <td>False</td>\n",
       "      <td>False</td>\n",
       "      <td>3843</td>\n",
       "      <td>0</td>\n",
       "      <td>CN</td>\n",
       "      <td>Beijing, People's Republic of China</td>\n",
       "      <td>6182</td>\n",
       "      <td>109</td>\n",
       "      <td>2019-12-31T10:03:22Z</td>\n",
       "      <td>False</td>\n",
       "      <td>en</td>\n",
       "    </tr>\n",
       "    <tr>\n",
       "      <th>3</th>\n",
       "      <td>271</td>\n",
       "      <td>1250574684468531200</td>\n",
       "      <td>43571133</td>\n",
       "      <td>2020-04-16T00:00:13Z</td>\n",
       "      <td>IronsMeroL</td>\n",
       "      <td>Mañana empieza la #Fase3 del #COVID_19 y tenem...</td>\n",
       "      <td>Twitter for iPhone</td>\n",
       "      <td>False</td>\n",
       "      <td>False</td>\n",
       "      <td>312</td>\n",
       "      <td>0</td>\n",
       "      <td>MX</td>\n",
       "      <td>Benito Juárez, Distrito Federal</td>\n",
       "      <td>150</td>\n",
       "      <td>40</td>\n",
       "      <td>2009-05-30T18:38:36Z</td>\n",
       "      <td>False</td>\n",
       "      <td>es</td>\n",
       "    </tr>\n",
       "    <tr>\n",
       "      <th>4</th>\n",
       "      <td>352</td>\n",
       "      <td>1250574719692275714</td>\n",
       "      <td>418957441</td>\n",
       "      <td>2020-04-16T00:00:22Z</td>\n",
       "      <td>MeducaPma</td>\n",
       "      <td>\"Los docentes deberán acogerse al Decreto Ejec...</td>\n",
       "      <td>Twitter for Android</td>\n",
       "      <td>False</td>\n",
       "      <td>False</td>\n",
       "      <td>5996</td>\n",
       "      <td>19</td>\n",
       "      <td>PA</td>\n",
       "      <td>Panama</td>\n",
       "      <td>82779</td>\n",
       "      <td>100</td>\n",
       "      <td>2011-11-22T19:37:37Z</td>\n",
       "      <td>False</td>\n",
       "      <td>es</td>\n",
       "    </tr>\n",
       "  </tbody>\n",
       "</table>\n",
       "</div>"
      ],
      "text/plain": [
       "   index            status_id              user_id            created_at  \\\n",
       "0    157  1250574631616069641            626679510  2020-04-16T00:00:01Z   \n",
       "1    260  1250574678541942786            794120640  2020-04-16T00:00:12Z   \n",
       "2    268  1250574683453431808  1211950858746785793  2020-04-16T00:00:13Z   \n",
       "3    271  1250574684468531200             43571133  2020-04-16T00:00:13Z   \n",
       "4    352  1250574719692275714            418957441  2020-04-16T00:00:22Z   \n",
       "\n",
       "       screen_name                                               text  \\\n",
       "0     SeanDMackNYC  This should make my meetings way more producti...   \n",
       "1  josemarceloroch  Vendo a quantidade de dificuldades que princip...   \n",
       "2      EDNewsChina  Grand Bazaar, a famous tourist site and a good...   \n",
       "3       IronsMeroL  Mañana empieza la #Fase3 del #COVID_19 y tenem...   \n",
       "4        MeducaPma  \"Los docentes deberán acogerse al Decreto Ejec...   \n",
       "\n",
       "                source  is_quote  is_retweet  favourites_count  retweet_count  \\\n",
       "0  Twitter for Android     False       False              1096              0   \n",
       "1  Twitter for Android     False       False               834              0   \n",
       "2   Twitter for iPhone     False       False              3843              0   \n",
       "3   Twitter for iPhone     False       False               312              0   \n",
       "4  Twitter for Android     False       False              5996             19   \n",
       "\n",
       "  country_code                      place_full_name  followers_count  \\\n",
       "0           US                        Manhattan, NY             3891   \n",
       "1           BR                 Caldas Novas, Brasil               81   \n",
       "2           CN  Beijing, People's Republic of China             6182   \n",
       "3           MX      Benito Juárez, Distrito Federal              150   \n",
       "4           PA                               Panama            82779   \n",
       "\n",
       "   friends_count    account_created_at  verified lang  \n",
       "0           4178  2012-07-04T16:48:10Z     False   en  \n",
       "1            396  2012-08-31T15:44:33Z     False   pt  \n",
       "2            109  2019-12-31T10:03:22Z     False   en  \n",
       "3             40  2009-05-30T18:38:36Z     False   es  \n",
       "4            100  2011-11-22T19:37:37Z     False   es  "
      ]
     },
     "execution_count": 18,
     "metadata": {},
     "output_type": "execute_result"
    }
   ],
   "source": [
    "april_df_cc[0].head()"
   ]
  },
  {
   "cell_type": "code",
   "execution_count": 19,
   "metadata": {},
   "outputs": [
    {
     "name": "stdout",
     "output_type": "stream",
     "text": [
      "@rainl1980 @AmazonUK That's appalling @AmazonUK Are there not guidelines to your delivery drivers concerning #SocialDistancing and #Pensioner health? #Disappointing #Covid_19  -  SteelCityAdy \n",
      "------------------------------------------------------\n",
      "\n",
      "Just because things are reopening, that doesn't mean the virus is magically gone or any less dangerous/spreadable. Don't be dumb and still only get things when essential people.\n",
      "\n",
      "#COVID19 #coronavirus  -  perryKIDjh \n",
      "------------------------------------------------------\n",
      "\n",
      "#covidhaircut #covid19 \n",
      "#homehaircut #homehaircuts #disaster #westportmoms #westportct #westportsalon #austinrolfe #austinrolfesalon @ Austin - Rolfe Salon https://t.co/hP57Vtfktn  -  ARSalonCT \n",
      "------------------------------------------------------\n",
      "\n",
      "Nalulungkot akong malaman ang aking bansa ay nangangailangan ng mga nars 😷 🦠\n",
      "I am sad my country is in need of nurses, a lot are dying of #COVID19 \n",
      "As a model girl in the Philippines I give my❤️ to all.\n",
      "Here in Japan 🇯🇵my best wish to all: #StayHome 🏠\n",
      "#Coronavirus #Japan https://t.co/YURFwgeaTP  -  IreneSexy_Pinay \n",
      "------------------------------------------------------\n",
      "\n",
      "Multidisciplinary research priorities for the #COVID19 pandemic: a call for action for #mentalhealth science\n",
      "https://t.co/RUaKG0julW  -  equitylist \n",
      "------------------------------------------------------\n",
      "\n"
     ]
    }
   ],
   "source": [
    "#Prints 5 random tweets of April\n",
    "for i in range(0,5):\n",
    "    text, screenName = randomTweet(april_df_cc)\n",
    "    print(text,' - ',screenName,'\\n------------------------------------------------------\\n')"
   ]
  },
  {
   "cell_type": "markdown",
   "metadata": {},
   "source": [
    "### Popular tweets of March"
   ]
  },
  {
   "cell_type": "code",
   "execution_count": 20,
   "metadata": {},
   "outputs": [
    {
     "name": "stdout",
     "output_type": "stream",
     "text": [
      "1536144  Favorites,  48  Retweets and  216960  Followers -  David_Leavitt\n",
      "Time:  2020-03-29T18:30:58Z\n",
      "Tweet:  Seeing your friends after the #coronavirus quarantine ends https://t.co/AQrU0s0ScV \n",
      "----------------------------------------------------------\n",
      "1537325  Favorites,  74  Retweets and  217114  Followers -  David_Leavitt\n",
      "Time:  2020-03-30T21:31:36Z\n",
      "Tweet:  Trump is an absolute narcissistic asshole. At the #coronavirus briefing he started talking about his hair.\n",
      "\n",
      "\"My hair is blowing in the wind and it’s mine. That’s one thing you can’t get away with if you’re president.\" \n",
      "----------------------------------------------------------\n",
      "1537913  Favorites,  34  Retweets and  217309  Followers -  David_Leavitt\n",
      "Time:  2020-03-31T22:09:15Z\n",
      "Tweet:  \"Yes. Over 100,000 Americans will die from #Coronavirus\"\n",
      "\n",
      "That means it's probably going to be way more\n",
      "\n",
      "😰 \n",
      "----------------------------------------------------------\n",
      "1538285  Favorites,  226  Retweets and  217530  Followers -  David_Leavitt\n",
      "Time:  2020-04-01T23:06:44Z\n",
      "Tweet:  Did @realDonaldTrump really just say \"A scarf is better\" at preventing #coronavirus than an N95 mask?!?!?\n",
      "\n",
      "How many more people will die from #COVIDー19 because of his incompetence? \n",
      "----------------------------------------------------------\n",
      "1538789  Favorites,  14  Retweets and  217552  Followers -  David_Leavitt\n",
      "Time:  2020-04-02T22:31:57Z\n",
      "Tweet:  \"The beauty of this president\" is not a phrase I would ever use to describe @realDonaldTrump\n",
      "\n",
      "#COVID #coronavirus #COVID19Pandemic #CoronavirusPandemic \n",
      "----------------------------------------------------------\n",
      "1539222  Favorites,  176  Retweets and  217802  Followers -  David_Leavitt\n",
      "Time:  2020-04-03T21:51:33Z\n",
      "Tweet:  Donald Trump: \"It is a beautiful Friday in Washington DC and our country is a great place.\"\n",
      "\n",
      "I don't think 273,777 Americans infected with #COVID19 and 7,028 Americans who've died from the #coronavirus in the #CoronavirusPandemic a \"great place\" to be.\n",
      "\n",
      "But what do I know? 🤷‍♂️ \n",
      "----------------------------------------------------------\n",
      "1539199  Favorites,  131  Retweets and  217997  Followers -  David_Leavitt\n",
      "Time:  2020-04-04T21:40:50Z\n",
      "Tweet:  \"Some are hot spots, and there is nothing that we are going to do about it.\"\n",
      "\n",
      "@realDonaldTrump just admitted he's NOT GOING TO HELP\n",
      "\n",
      "#COVID19 #coronavirus #CoronavirusPandemic \n",
      "----------------------------------------------------------\n",
      "1539479  Favorites,  253  Retweets and  218145  Followers -  David_Leavitt\n",
      "Time:  2020-04-05T16:46:46Z\n",
      "Tweet:  This ignorant woman will infect hundred of people with #coronavirus\n",
      "\n",
      "#COVID19 #Covid_19 #CoronavirusPandemic https://t.co/tH1RAsoXQy \n",
      "----------------------------------------------------------\n",
      "1540091  Favorites,  87  Retweets and  218307  Followers -  David_Leavitt\n",
      "Time:  2020-04-06T17:30:58Z\n",
      "Tweet:  You \"wonder why\" ??? \n",
      "\n",
      "Because of #Coronavirus you incompetent imbecile https://t.co/o2w6DnfnTW \n",
      "----------------------------------------------------------\n",
      "1540399  Favorites,  465  Retweets and  218513  Followers -  David_Leavitt\n",
      "Time:  2020-04-07T18:34:30Z\n",
      "Tweet:  W.H.O. didn't blow it.\n",
      "\n",
      "YOU BLEW IT.\n",
      "\n",
      "You gave faulty recommendations, telling the public that #COVID was a hoax, that #COVID19 was just a flu, that #coronavirus was contained, that the #CoronavirusPandemic would just go away, and now these #CoronavirusUSA deaths are your fault. https://t.co/tSezI6NxWi \n",
      "----------------------------------------------------------\n",
      "1354285  Favorites,  8  Retweets and  73279  Followers -  GokhanAkar\n",
      "Time:  2020-04-08T18:40:33Z\n",
      "Tweet:  Başlıyoruz :)\n",
      "#gokhanakar #ruhesi #spotify #applemusic #coronavirus #EvdeHayatVar #EvdeKalGenclik #evdekal #evdekalturkiye #HayatEveSigar #Koronavirusu #COVIDー19 #Wuhan #COVID19 #COVID https://t.co/3wDK6hQi3X \n",
      "----------------------------------------------------------\n",
      "1986545  Favorites,  0  Retweets and  22617  Followers -  ChelseaAMusic\n",
      "Time:  2020-04-09T19:56:24Z\n",
      "Tweet:  So first Russia 🇷🇺 lies saying they didn't have any #covid19 cases &amp; now they have exactly that I mean why lie to begin with!! 😡  https://t.co/RUi94uZAiw \n",
      "----------------------------------------------------------\n",
      "1541876  Favorites,  142  Retweets and  219103  Followers -  David_Leavitt\n",
      "Time:  2020-04-10T19:30:36Z\n",
      "Tweet:  Ivanka Trump will serve the White House’s \"new economy-focused #coronavirus task force.\"\n",
      "\n",
      "She also has a trademark on coffins ⚰️ \n",
      "----------------------------------------------------------\n",
      "1987033  Favorites,  0  Retweets and  22623  Followers -  ChelseaAMusic\n",
      "Time:  2020-04-11T20:03:06Z\n",
      "Tweet:  Want to give a shout out to all Healthcare workers around the world helping everyone who is fighting for their lives during #COVID19 #COVIDー19 you all are rock stars &amp; deserve the recognition 👏 for what you all do for us so thank you!!! 🙏❤🙂 \n",
      "----------------------------------------------------------\n",
      "1353280  Favorites,  1  Retweets and  73178  Followers -  GokhanAkar\n",
      "Time:  2020-04-12T16:28:52Z\n",
      "Tweet:  Bugün Saat 21.00 da\n",
      "Piyanom ve Ben\n",
      "Birbirinden Güzel Şarkılarla\n",
      "Canlı Yayındayız\n",
      "🙏🏼☺️♥️\n",
      "#gokhanakar #ruhesi #spotify #applemusic #coronavirus #EvdeHayatVar #EvdeKalGenclik #evdekal #evdekalturkiye #HayatEveSigar #Koronavirusu #COVID19 #COVID2019 #StayAtHome #SuluNevsin #StayHome https://t.co/k8dq3f11xC \n",
      "----------------------------------------------------------\n",
      "1543173  Favorites,  13  Retweets and  219367  Followers -  David_Leavitt\n",
      "Time:  2020-04-13T04:35:39Z\n",
      "Tweet:  @mitchellvii You don't need to worry about \"strengthening your immune system\" to fight #COVID19  if you don't come in contact with someone infected with #coronavirus.\n",
      "\n",
      "Nor would you be infecting (and potentially killing) others by running around asymptomatic. https://t.co/7W7Mo2PcaF \n",
      "----------------------------------------------------------\n",
      "1989070  Favorites,  0  Retweets and  22625  Followers -  ChelseaAMusic\n",
      "Time:  2020-04-14T21:37:13Z\n",
      "Tweet:  We are not #InThisTogether if people have to go about hoarding supplies from stores &amp; leaving others defenseless without the necessary supplies like what the heck is wrong with you people stop being a hoarder!!!  😡😤 #COVID19 \n",
      "----------------------------------------------------------\n",
      "1989070  Favorites,  3  Retweets and  22623  Followers -  ChelseaAMusic\n",
      "Time:  2020-04-15T02:56:09Z\n",
      "Tweet:  When we get over this #COVID19 virus I think it's time movie shoots, filming TV shows, premiere events, Award events, TV &amp; Music events/festivals do more to protect the actors, actresses &amp; musicians more so this doesn't happen again ever!! 🤞🙏 \n",
      "----------------------------------------------------------\n"
     ]
    }
   ],
   "source": [
    "#Most popular tweets of March:\n",
    "mostFavorited(march_df)"
   ]
  },
  {
   "cell_type": "markdown",
   "metadata": {},
   "source": [
    "### Popular tweets of April"
   ]
  },
  {
   "cell_type": "code",
   "execution_count": 21,
   "metadata": {},
   "outputs": [
    {
     "name": "stdout",
     "output_type": "stream",
     "text": [
      "1989090  Favorites,  1  Retweets and  22629  Followers -  ChelseaAMusic\n",
      "Time:  2020-04-16T19:59:57Z\n",
      "Tweet:  Ever since the #COVID19 epidemic began i think I've only taken 2 naps 😴 the whole time that's how much my anxiety has been bothering me it's so not fun at all!! 😢😭 \n",
      "----------------------------------------------------------\n",
      "1352107  Favorites,  2  Retweets and  73040  Followers -  GokhanAkar\n",
      "Time:  2020-04-17T11:13:16Z\n",
      "Tweet:  Geçen Gün Canlı Yayında Teknik Bir Kaza Sonucu Tavşan Olarak Şarkı Söylemeye Devam Ettikten Sonra\n",
      "Bu Akşam Saat 20.00 da\n",
      "Instagram Hesabımda\n",
      "Civciv 🐥 Olarak\n",
      "Şarkı Söylemeyi Düşünüyorum...\n",
      "Tüm Arkadaşlar da Civciv Olarak Yayınıma Katılsınlar Lütfen.\n",
      "🐥🐥🐥♥️\n",
      "#EvdeKal #coronavirus https://t.co/m8y6xcx6dj \n",
      "----------------------------------------------------------\n",
      "1990673  Favorites,  0  Retweets and  22639  Followers -  ChelseaAMusic\n",
      "Time:  2020-04-18T21:19:51Z\n",
      "Tweet:  Very true we are One World 🌎 it's time we start acting like one instead of fighting with one another cause that's not gonna help get rid of this #COVID19 virus at all!!! ✊👊🙂 @GlblCtzn #TogetherAtHome \n",
      "----------------------------------------------------------\n",
      "1990675  Favorites,  0  Retweets and  22637  Followers -  ChelseaAMusic\n",
      "Time:  2020-04-19T06:25:23Z\n",
      "Tweet:  So instead of keeping the beaches closed Florida's government would rather get even more infected #COVID19 virus like are y'all nuts not right!!! 😡😤 https://t.co/Xu5GQe7nTc \n",
      "----------------------------------------------------------\n",
      "1545939  Favorites,  117  Retweets and  220685  Followers -  David_Leavitt\n",
      "Time:  2020-04-20T16:27:06Z\n",
      "Tweet:  Imagine being an \"essential worker\" and still not being able to pay your bills because you aren't even paid a living wage.\n",
      "\n",
      "Yet you have to risk your personal health, and life of your loved ones on a daily basis.\n",
      "\n",
      "#COVID19 #coronavirus #mondaythoughts https://t.co/7orwmR45EP \n",
      "----------------------------------------------------------\n",
      "1992973  Favorites,  0  Retweets and  22664  Followers -  ChelseaAMusic\n",
      "Time:  2020-04-21T20:09:13Z\n",
      "Tweet:  By reopening the beaches &amp; possibly businesses you just put all your citizens at risk of getting #COVID19 &amp; telling them that social distancing doesn't matter anymore you should be ashamed to call yourself governor of Florida!! 😡😤 https://t.co/eMDiY6u9oZ \n",
      "----------------------------------------------------------\n",
      "1992973  Favorites,  0  Retweets and  22664  Followers -  ChelseaAMusic\n",
      "Time:  2020-04-22T04:56:17Z\n",
      "Tweet:  It's time @SmithfieldFoods took responsibility for what the do to their workers &amp; how they didn't do anything to protect them even after the first person got sick with #COVID19 like this is not right at all!!! 😡😤 https://t.co/jpybxfdFXH \n",
      "----------------------------------------------------------\n",
      "1350208  Favorites,  4  Retweets and  73022  Followers -  GokhanAkar\n",
      "Time:  2020-04-23T18:31:09Z\n",
      "Tweet:  23 Nisan Kutlu Olsun...\n",
      "🤘🏼😎🇹🇷\n",
      "#gokhanakar #türkçepop #muzik #turkishmusic #halkınmeclisi #ruhesi #music #nowplaying #np #pop #EvdeBayramVar #ercumentovali #HosGeldinYaSehriRamazan #슙디에게물어봐 #Ramazan #23Nisan1920 #COVID19 #coronavirus #Covid_19 #COVID2019 #GOT7 #ANITKABİR https://t.co/yerHXS8sKN \n",
      "----------------------------------------------------------\n",
      "1300313  Favorites,  1  Retweets and  17628  Followers -  DanielPilotte2\n",
      "Time:  2020-04-24T19:38:30Z\n",
      "Tweet:  #Coronavirus : dans le #Vaucluse, le nombre, ➡️ d'hospitalisations repart à la hausse https://t.co/95CDCY0wM5 \n",
      "----------------------------------------------------------\n",
      "1551231  Favorites,  80  Retweets and  221962  Followers -  David_Leavitt\n",
      "Time:  2020-04-25T15:00:54Z\n",
      "Tweet:  #covid19 https://t.co/VRDhtt9zqe \n",
      "----------------------------------------------------------\n",
      "1993882  Favorites,  0  Retweets and  22673  Followers -  ChelseaAMusic\n",
      "Time:  2020-04-26T07:48:46Z\n",
      "Tweet:  It is time the Govenor of California shuts down the beaches until this virus is over with cause this is ridiculous how these people are putting others at risk!!! 😡😤 #COVID19 https://t.co/z05zaa4NJ6 \n",
      "----------------------------------------------------------\n",
      "1555467  Favorites,  63  Retweets and  222132  Followers -  David_Leavitt\n",
      "Time:  2020-04-27T22:53:02Z\n",
      "Tweet:  How long until @realDonaldTrump blames #coronavirus on the UFOs? \n",
      "----------------------------------------------------------\n",
      "1262324  Favorites,  3  Retweets and  6630  Followers -  hazelglasgow\n",
      "Time:  2020-04-28T00:14:09Z\n",
      "Tweet:  #COVID19 #Panorama https://t.co/FPejeXO1eD \n",
      "----------------------------------------------------------\n",
      "1995152  Favorites,  0  Retweets and  22666  Followers -  ChelseaAMusic\n",
      "Time:  2020-04-29T02:50:58Z\n",
      "Tweet:  It's time @SmithfieldFoods took responsibility for what they did &amp; how they didn't protect their workers when the first case of #COVID19 came out in their factory like so not right at all!!! 😡😤 https://t.co/8YWBA2HPX2 \n",
      "----------------------------------------------------------\n",
      "1562269  Favorites,  24  Retweets and  222011  Followers -  David_Leavitt\n",
      "Time:  2020-04-30T19:53:20Z\n",
      "Tweet:  The @WhiteHouse Gift Shop is selling \"World vs. Coronavirus\" coin for $100...and the description says there’s only 1,000 but somehow I feel like this is another @realDonaldTrump scam to cash in on #COVID19 \n",
      "\n",
      "Surprised it’s not a “Trump vs. Coronavirus” coin tbh https://t.co/FTEKXaEKBB \n",
      "----------------------------------------------------------\n"
     ]
    }
   ],
   "source": [
    "#Most popular tweets of April:\n",
    "mostFavorited(april_df)"
   ]
  },
  {
   "cell_type": "markdown",
   "metadata": {},
   "source": [
    "## Dividing data by country_code"
   ]
  },
  {
   "cell_type": "code",
   "execution_count": 22,
   "metadata": {},
   "outputs": [
    {
     "name": "stdout",
     "output_type": "stream",
     "text": [
      "US    5827\n",
      "IN    2814\n",
      "GB    2494\n",
      "ES    1144\n",
      "BR     898\n",
      "Name: country_code, dtype: int64\n"
     ]
    }
   ],
   "source": [
    "top_codes = april_df_cc[0]['country_code'].value_counts()[0:31]#one day find an autmoatic way to get values >100\n",
    "print(top_codes[0:5])"
   ]
  },
  {
   "cell_type": "markdown",
   "metadata": {},
   "source": [
    "## Groupby analysis\n",
    "Grouping by sum of followers, retweets, etc. for each country code\n",
    "\n",
    "Preprocessing:\n",
    "1. Concatenate individual March and April DataFrames. Concatenate two major dataframes for March and April\n",
    "2. Drop categorical columns for groupby"
   ]
  },
  {
   "cell_type": "code",
   "execution_count": 23,
   "metadata": {},
   "outputs": [],
   "source": [
    "def concatenate(arr_df):\n",
    "    firstArr = arr_df[0]\n",
    "    for i in range(1,len(arr_df)):\n",
    "        firstArr = pd.concat([firstArr,arr_df[i]], axis = 0)\n",
    "    return firstArr.reset_index()"
   ]
  },
  {
   "cell_type": "code",
   "execution_count": 24,
   "metadata": {},
   "outputs": [],
   "source": [
    "april_full_cc = concatenate(april_df_cc)"
   ]
  },
  {
   "cell_type": "code",
   "execution_count": 25,
   "metadata": {},
   "outputs": [],
   "source": [
    "march_full_cc = concatenate(march_df_cc)"
   ]
  },
  {
   "cell_type": "code",
   "execution_count": 31,
   "metadata": {},
   "outputs": [],
   "source": [
    "full_cc = pd.concat([march_full_cc,april_full_cc],axis = 0)"
   ]
  },
  {
   "cell_type": "code",
   "execution_count": 61,
   "metadata": {},
   "outputs": [],
   "source": [
    "countryTweetCount = full_cc_grouped['country_code'].value_counts()"
   ]
  },
  {
   "cell_type": "code",
   "execution_count": 135,
   "metadata": {},
   "outputs": [
    {
     "data": {
      "image/png": "[encoded data removed]",
      "text/plain": [
       "<Figure size 432x288 with 1 Axes>"
      ]
     },
     "metadata": {
      "needs_background": "light"
     },
     "output_type": "display_data"
    }
   ],
   "source": [
    "cc = list(countryTweetCount.index)[0:10]\n",
    "counts = list(countryTweetCount)[0:10]\n",
    "plt.bar(cc,counts, color = 'lightblue')\n",
    "plt.xlabel(\"Country Code\")\n",
    "plt.ylabel(\"Number of Tweets\")\n",
    "plt.title(\"Number of Tweets for Top 10 Countries in March and April\")\n",
    "plt.show()"
   ]
  },
  {
   "cell_type": "code",
   "execution_count": 45,
   "metadata": {},
   "outputs": [
    {
     "data": {
      "text/html": [
       "<div>\n",
       "<style scoped>\n",
       "    .dataframe tbody tr th:only-of-type {\n",
       "        vertical-align: middle;\n",
       "    }\n",
       "\n",
       "    .dataframe tbody tr th {\n",
       "        vertical-align: top;\n",
       "    }\n",
       "\n",
       "    .dataframe thead th {\n",
       "        text-align: right;\n",
       "    }\n",
       "</style>\n",
       "<table border=\"1\" class=\"dataframe\">\n",
       "  <thead>\n",
       "    <tr style=\"text-align: right;\">\n",
       "      <th></th>\n",
       "      <th>favourites_count</th>\n",
       "      <th>retweet_count</th>\n",
       "      <th>country_code</th>\n",
       "      <th>followers_count</th>\n",
       "      <th>friends_count</th>\n",
       "    </tr>\n",
       "  </thead>\n",
       "  <tbody>\n",
       "    <tr>\n",
       "      <th>0</th>\n",
       "      <td>534</td>\n",
       "      <td>0</td>\n",
       "      <td>IT</td>\n",
       "      <td>1241</td>\n",
       "      <td>430</td>\n",
       "    </tr>\n",
       "    <tr>\n",
       "      <th>1</th>\n",
       "      <td>1256</td>\n",
       "      <td>0</td>\n",
       "      <td>US</td>\n",
       "      <td>375</td>\n",
       "      <td>762</td>\n",
       "    </tr>\n",
       "    <tr>\n",
       "      <th>2</th>\n",
       "      <td>1561</td>\n",
       "      <td>4</td>\n",
       "      <td>MX</td>\n",
       "      <td>361</td>\n",
       "      <td>1035</td>\n",
       "    </tr>\n",
       "    <tr>\n",
       "      <th>3</th>\n",
       "      <td>1971</td>\n",
       "      <td>1</td>\n",
       "      <td>PA</td>\n",
       "      <td>1987</td>\n",
       "      <td>584</td>\n",
       "    </tr>\n",
       "    <tr>\n",
       "      <th>4</th>\n",
       "      <td>1205</td>\n",
       "      <td>1</td>\n",
       "      <td>CL</td>\n",
       "      <td>771</td>\n",
       "      <td>3590</td>\n",
       "    </tr>\n",
       "  </tbody>\n",
       "</table>\n",
       "</div>"
      ],
      "text/plain": [
       "   favourites_count  retweet_count country_code  followers_count  \\\n",
       "0               534              0           IT             1241   \n",
       "1              1256              0           US              375   \n",
       "2              1561              4           MX              361   \n",
       "3              1971              1           PA             1987   \n",
       "4              1205              1           CL              771   \n",
       "\n",
       "   friends_count  \n",
       "0            430  \n",
       "1            762  \n",
       "2           1035  \n",
       "3            584  \n",
       "4           3590  "
      ]
     },
     "execution_count": 45,
     "metadata": {},
     "output_type": "execute_result"
    }
   ],
   "source": [
    "full_cc_grouped = full_cc.iloc[:,10:]\n",
    "full_cc_grouped = full_cc_grouped.drop(['place_full_name','account_created_at','verified','lang'], axis = 1)\n",
    "full_cc_grouped.head()"
   ]
  },
  {
   "cell_type": "code",
   "execution_count": 101,
   "metadata": {},
   "outputs": [
    {
     "data": {
      "text/html": [
       "<div>\n",
       "<style scoped>\n",
       "    .dataframe tbody tr th:only-of-type {\n",
       "        vertical-align: middle;\n",
       "    }\n",
       "\n",
       "    .dataframe tbody tr th {\n",
       "        vertical-align: top;\n",
       "    }\n",
       "\n",
       "    .dataframe thead th {\n",
       "        text-align: right;\n",
       "    }\n",
       "</style>\n",
       "<table border=\"1\" class=\"dataframe\">\n",
       "  <thead>\n",
       "    <tr style=\"text-align: right;\">\n",
       "      <th></th>\n",
       "      <th>country_code</th>\n",
       "      <th>favourites_count</th>\n",
       "      <th>retweet_count</th>\n",
       "      <th>followers_count</th>\n",
       "      <th>friends_count</th>\n",
       "    </tr>\n",
       "  </thead>\n",
       "  <tbody>\n",
       "    <tr>\n",
       "      <th>206</th>\n",
       "      <td>US</td>\n",
       "      <td>3235269729</td>\n",
       "      <td>294069</td>\n",
       "      <td>936515244</td>\n",
       "      <td>509730576</td>\n",
       "    </tr>\n",
       "    <tr>\n",
       "      <th>68</th>\n",
       "      <td>GB</td>\n",
       "      <td>773514042</td>\n",
       "      <td>93283</td>\n",
       "      <td>189193762</td>\n",
       "      <td>124015321</td>\n",
       "    </tr>\n",
       "    <tr>\n",
       "      <th>94</th>\n",
       "      <td>IN</td>\n",
       "      <td>610958422</td>\n",
       "      <td>146578</td>\n",
       "      <td>693637932</td>\n",
       "      <td>54271780</td>\n",
       "    </tr>\n",
       "    <tr>\n",
       "      <th>60</th>\n",
       "      <td>ES</td>\n",
       "      <td>398937502</td>\n",
       "      <td>66082</td>\n",
       "      <td>109394067</td>\n",
       "      <td>52567766</td>\n",
       "    </tr>\n",
       "    <tr>\n",
       "      <th>35</th>\n",
       "      <td>CA</td>\n",
       "      <td>368298451</td>\n",
       "      <td>68143</td>\n",
       "      <td>90770241</td>\n",
       "      <td>42659274</td>\n",
       "    </tr>\n",
       "  </tbody>\n",
       "</table>\n",
       "</div>"
      ],
      "text/plain": [
       "    country_code  favourites_count  retweet_count  followers_count  \\\n",
       "206           US        3235269729         294069        936515244   \n",
       "68            GB         773514042          93283        189193762   \n",
       "94            IN         610958422         146578        693637932   \n",
       "60            ES         398937502          66082        109394067   \n",
       "35            CA         368298451          68143         90770241   \n",
       "\n",
       "     friends_count  \n",
       "206      509730576  \n",
       "68       124015321  \n",
       "94        54271780  \n",
       "60        52567766  \n",
       "35        42659274  "
      ]
     },
     "execution_count": 101,
     "metadata": {},
     "output_type": "execute_result"
    }
   ],
   "source": [
    "full_cc_grouped_final = full_cc_grouped.groupby('country_code').sum().reset_index()\n",
    "full_cc_grouped_final = full_cc_grouped_final.sort_values(by = ['favourites_count','followers_count'], ascending = False)\n",
    "full_cc_grouped_final.head()"
   ]
  },
  {
   "cell_type": "markdown",
   "metadata": {},
   "source": [
    "## Grouped bar chart/Popularity assessment\n",
    "\n",
    "Assessing Twitter popularity for each country as a whole"
   ]
  },
  {
   "cell_type": "code",
   "execution_count": 93,
   "metadata": {},
   "outputs": [],
   "source": [
    "c = full_cc_grouped_final['country_code'][0:10]\n",
    "total_favs = full_cc_grouped_final['favourites_count'][0:10]\n",
    "total_rt = full_cc_grouped_final['retweet_count'][0:10]\n",
    "total_fol = full_cc_grouped_final['followers_count'][0:10]\n",
    "\n",
    "total_fr = full_cc_grouped_final['friends_count'][0:10]#may not be an accurate representation, There would be alot of repeats"
   ]
  },
  {
   "cell_type": "code",
   "execution_count": 132,
   "metadata": {},
   "outputs": [
    {
     "data": {
      "image/png": "[encoded data removed]",
      "text/plain": [
       "<Figure size 576x360 with 1 Axes>"
      ]
     },
     "metadata": {
      "needs_background": "light"
     },
     "output_type": "display_data"
    }
   ],
   "source": [
    "x = np.arange(len(c))  # the label locations\n",
    "width = 0.35  # the width of the bars\n",
    "fig, ax = plt.subplots(figsize=(8,5))\n",
    "rects1 = ax.bar(x - width/2, total_favs, width, label='Favs')\n",
    "rects2 = ax.bar(x + width/2, total_fol, width, label='Followers')\n",
    "\n",
    "# Add some text for labels, title and custom x-axis tick labels, etc.\n",
    "ax.set_ylabel('Number of Favorites/Followers')\n",
    "ax.set_title('Total number of favorites and followers of tweets/users of Top 10 Countries\\n')\n",
    "ax.set_xticks(x)\n",
    "ax.set_xticklabels(c)\n",
    "ax.legend()\n",
    "\n",
    "\n",
    "plt.show()"
   ]
  },
  {
   "cell_type": "markdown",
   "metadata": {},
   "source": [
    "## US Tweets Over Time\n",
    "\n",
    "Get total number of tweets for each consecutive day in the US. See how number of tweets changes over time."
   ]
  },
  {
   "cell_type": "code",
   "execution_count": null,
   "metadata": {},
   "outputs": [],
   "source": []
  },
  {
   "cell_type": "code",
   "execution_count": null,
   "metadata": {},
   "outputs": [],
   "source": []
  },
  {
   "cell_type": "code",
   "execution_count": null,
   "metadata": {},
   "outputs": [],
   "source": []
  },
  {
   "cell_type": "code",
   "execution_count": null,
   "metadata": {},
   "outputs": [],
   "source": []
  },
  {
   "cell_type": "markdown",
   "metadata": {},
   "source": [
    "## Global Number of Tweets Over Time\n",
    "\n",
    "Do the same as above, but for all tweets across all countries"
   ]
  },
  {
   "cell_type": "code",
   "execution_count": null,
   "metadata": {},
   "outputs": [],
   "source": []
  },
  {
   "cell_type": "code",
   "execution_count": null,
   "metadata": {},
   "outputs": [],
   "source": []
  },
  {
   "cell_type": "code",
   "execution_count": null,
   "metadata": {},
   "outputs": [],
   "source": []
  },
  {
   "cell_type": "code",
   "execution_count": null,
   "metadata": {},
   "outputs": [],
   "source": []
  },
  {
   "cell_type": "markdown",
   "metadata": {},
   "source": [
    "## Adding column for sentiment score\n",
    "https://textblob.readthedocs.io/en/dev/"
   ]
  },
  {
   "cell_type": "code",
   "execution_count": null,
   "metadata": {},
   "outputs": [],
   "source": []
  }
 ],
 "metadata": {
  "kernelspec": {
   "display_name": "Python 3",
   "language": "python",
   "name": "python3"
  },
  "language_info": {
   "codemirror_mode": {
    "name": "ipython",
    "version": 3
   },
   "file_extension": ".py",
   "mimetype": "text/x-python",
   "name": "python",
   "nbconvert_exporter": "python",
   "pygments_lexer": "ipython3",
   "version": "3.7.3"
  }
 },
 "nbformat": 4,
 "nbformat_minor": 2
}
